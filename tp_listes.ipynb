{
 "cells": [
  {
   "cell_type": "markdown",
   "metadata": {},
   "source": [
    "# Révisions sur les listes\n",
    "**Remarque préliminaire**\n",
    "\n",
    "Il est préférable avant d'aborder ce travail, de traiter le TP sur la boocle *for* accessible au lien suivant : [le lien](https://mybinder.org/v2/gh/lucponsonnet/tp_boucle_for/HEAD).\n",
    "## 1- Généralités sur les listes\n",
    "### a) Qu'est-ce qu'une liste ?\n",
    "Une liste est une structure de données linéaire qui peut contenir des valeurs de différents types (entiers, chaîne de caractères,...).\n",
    "\n",
    "Exécutez la *cellules Code* suivante (sélectionner la \"cellule Code\", puis cliquer sur *Exécuter* ou utiliser le raccourci clavier *CTRL + Entrée*)."
   ]
  },
  {
   "cell_type": "code",
   "execution_count": null,
   "metadata": {},
   "outputs": [],
   "source": [
    "classe=[\"première 12\",35,\"2020\"]\n",
    "notes=[12.4,11.6,3.5,15.6]\n",
    "print(classe)\n",
    "print(notes)"
   ]
  },
  {
   "cell_type": "markdown",
   "metadata": {},
   "source": [
    "Chaque valeur de la liste est séparée par une virgule, et la liste est délimitée par des crochets.\n",
    "Pour afficher le contenu d'une variable $a$, on utilise l'instruction *print(a)*.\n",
    "\n",
    "<span style='color:blue'>**Application 1**</span> :\n",
    "\n",
    "Dans la *cellule Code* suivante, affecter dans les variables $L1$ et $L2$, respectivement les listes [1,2,3,4,5] et ['a','b','c','d'], et les afficher."
   ]
  },
  {
   "cell_type": "code",
   "execution_count": null,
   "metadata": {},
   "outputs": [],
   "source": []
  },
  {
   "cell_type": "markdown",
   "metadata": {},
   "source": [
    "### b) Indice du terme d'une liste. Longueur d'une liste\n",
    "La première valeur d'une liste L est obtenue en tapant L[0], la valeur suivante L[1], etc.\n",
    "\n",
    "Si L=['a','b','c','d'] alors le terme 'a' de la liste a pour **indice** 0, le terme 'b' a pour **index 1**, et le terme 'c' a pour **rang** 2. Les mots indice, index ou rang sont synonymes.\n",
    "\n",
    "La fonction Python *len()* renvoie la **longueur** ou la **taille** de la liste L, c'est-à-dire le nombre n de valeurs de la liste L.\n",
    "Attention, si la liste L contient n valeurs alors la dernière valeur de la liste est L[n-1] que l'on peut aussi obtenir par L[len(L)-1].\n",
    "\n",
    "\n",
    "Exécutez le script suivant :"
   ]
  },
  {
   "cell_type": "code",
   "execution_count": null,
   "metadata": {},
   "outputs": [],
   "source": [
    "classe=[\"première 12\",35,\"2020\"]\n",
    "print(classe[0])\n",
    "print(classe[1])\n",
    "print(classe[2])\n",
    "print(len(classe))\n",
    "print(classe[3])"
   ]
  },
  {
   "cell_type": "markdown",
   "metadata": {},
   "source": [
    "*print(classe[3])* renvoie un message d'erreur car l'index 3 n'existe pas, d'où le message \"index out of range\".\n",
    "\n",
    "<span style='color:blue'>**Application 2**</span> :\n",
    "\n",
    "On considère la liste L=[1,2,3,4,5]. Compléter la ligne 2 en utilisant len(L) pour afficher le dernier terme de cette liste."
   ]
  },
  {
   "cell_type": "code",
   "execution_count": null,
   "metadata": {},
   "outputs": [],
   "source": [
    "L=[1,2,3,4,5]\n",
    "print(...)"
   ]
  },
  {
   "cell_type": "markdown",
   "metadata": {},
   "source": [
    "Lorsque $x$ contient l'entier 9, la condition booléenne $x>10$ est fausse donc la ligne 3 n'est pas exécutée. On passe alors au else, la ligne 5 est exécutée, et le script se termine par la ligne 6."
   ]
  },
  {
   "cell_type": "markdown",
   "metadata": {},
   "source": [
    "## 2- Quelques opérations sur les listes\n",
    "#### a) La concaténation\n",
    "La concaténation des listes L1 et L2 se fait avec l'opérateur +. \n",
    "\n",
    "L1+L2 correspond à la liste composée des valeurs de L1 suivies des valeurs de L2.\n",
    "\n",
    "Il est à noter que la liste L1+L2 diffère de la liste L2+L1 comme le montre la *cellule Code* suivante :"
   ]
  },
  {
   "cell_type": "code",
   "execution_count": null,
   "metadata": {},
   "outputs": [],
   "source": [
    "L1=[1,2,3]\n",
    "L2=[4,5,6]\n",
    "print(L1+L2)\n",
    "print(L2+L1)"
   ]
  },
  {
   "cell_type": "markdown",
   "metadata": {},
   "source": [
    "<span style='color:blue'>**Application 3**</span> :\n",
    "\n",
    "A partir des deux listes L1=[1,2,3] et L2=[\"a\",\"b\"], obtenir par concaténation la liste [1,2,3,\"a\",\"b\",1,2,3] dans la *cellule Code* suivante :"
   ]
  },
  {
   "cell_type": "code",
   "execution_count": null,
   "metadata": {},
   "outputs": [],
   "source": []
  },
  {
   "cell_type": "markdown",
   "metadata": {},
   "source": [
    "Au lieu de l'opérateur +, il est possible d'utiliser la méthode *append()* pour ajouter un élément par la droite à la liste."
   ]
  },
  {
   "cell_type": "code",
   "execution_count": null,
   "metadata": {},
   "outputs": [],
   "source": [
    "L=[1,2]\n",
    "L.append(3)\n",
    "print(L)"
   ]
  },
  {
   "cell_type": "markdown",
   "metadata": {},
   "source": [
    "<span style='color:blue'>**Application 4**</span> :\n",
    "\n",
    "En partant de la liste à vide L=[], obtenir avec la méthode *append()* la liste L=[\"a\",\"b\",\"c\"], puis l'afficher :"
   ]
  },
  {
   "cell_type": "code",
   "execution_count": null,
   "metadata": {},
   "outputs": [],
   "source": []
  },
  {
   "cell_type": "markdown",
   "metadata": {},
   "source": [
    "#### b) L'auto-concaténation\n",
    "\n",
    "Nous allons créer la liste L=[1,2,3] à partir de la liste vide L=[] par auto-concaténations successives de la liste L avec des listes contenant une seule valeur."
   ]
  },
  {
   "cell_type": "code",
   "execution_count": null,
   "metadata": {},
   "outputs": [],
   "source": [
    "L=[]\n",
    "L=L+[1]\n",
    "L=L+[2]\n",
    "L=L+[3]\n",
    "print(L)"
   ]
  },
  {
   "cell_type": "markdown",
   "metadata": {},
   "source": [
    "L=L+[1]. Au début L=[] donc L+[1]=[]+[1] génère la liste [1] par concaténation de la liste vide [] et de la liste[1].\n",
    "\n",
    "Ce dernier résultat est affecté dans L.\n",
    "\n",
    "L=L+[2] donc L+[2]=[1]+[2] génère la liste [1,2] par concaténation de la liste [1] et de la liste[2].\n",
    "\n",
    "Ce dernier résultat est affecté dans L.\n",
    "\n",
    "L=L+[3] donc L+[3]=[1,2]+[3] génère la liste [1,2,3] par concaténation de la liste [1,2] et de la liste[3].\n",
    "\n",
    "Ce dernier résultat est affecté dans L.\n",
    "\n",
    "<span style='color:blue'>**Application 5**</span> :\n",
    "\n",
    "En partant de la liste L=[], obtenir par auto-concaténations \"à droite\" de listes à un seul élément, la liste L=[4,5,6].\n",
    "\n",
    "Faire de même, cette fois-ci par des auto-concaténations \"à gauche\"."
   ]
  },
  {
   "cell_type": "code",
   "execution_count": null,
   "metadata": {},
   "outputs": [],
   "source": []
  },
  {
   "cell_type": "code",
   "execution_count": null,
   "metadata": {},
   "outputs": [],
   "source": []
  },
  {
   "cell_type": "markdown",
   "metadata": {},
   "source": [
    "#### c) La duplication\n",
    "\n",
    "L'opérateur de duplication * permet d'obtenir une liste dupliquée. Exécuter les deux *cellules Code* suivantes :"
   ]
  },
  {
   "cell_type": "code",
   "execution_count": null,
   "metadata": {},
   "outputs": [],
   "source": [
    "[0]*10"
   ]
  },
  {
   "cell_type": "code",
   "execution_count": null,
   "metadata": {},
   "outputs": [],
   "source": [
    "[1,2]*3"
   ]
  },
  {
   "cell_type": "markdown",
   "metadata": {},
   "source": [
    "<span style='color:blue'>**Application 6**</span> :\n",
    "\n",
    "En utilisant les opérateurs de concaténation et de duplication créer la liste [\"allô\",\"allô\",\"allô\",\"c'est qui ?\"] à partir des listes [\"allô\"] et [\"c'est qui ?\"]."
   ]
  },
  {
   "cell_type": "code",
   "execution_count": null,
   "metadata": {},
   "outputs": [],
   "source": []
  },
  {
   "cell_type": "markdown",
   "metadata": {},
   "source": [
    "## 3- Exercices\n",
    "\n",
    "\n",
    "<span style='color:blue'>**Exercice 1**</span> :\n",
    "\n",
    "Soit L une liste d'entiers naturels. Compléter la fonction *pair(L)* pour qu'elle renvoie la liste P des entiers naturels pairs de L."
   ]
  },
  {
   "cell_type": "code",
   "execution_count": null,
   "metadata": {},
   "outputs": [],
   "source": [
    "def pair(L):\n",
    "    P=[]\n",
    "    for i in range(...):\n",
    "        if ...:\n",
    "            P=P+...\n",
    "    return P\n",
    "\n",
    "print([1,2,3,4,5,6,7,8,9,10])"
   ]
  },
  {
   "cell_type": "markdown",
   "metadata": {},
   "source": [
    "\n",
    "<span style='color:blue'>**Exercice 2**</span> :\n",
    "\n",
    "Soit L une liste d'entiers naturels. Compléter la fonction *moyenne(l)* pour qu'elle renvoie la moyenne arithmétique des valeurs de la liste L."
   ]
  },
  {
   "cell_type": "code",
   "execution_count": null,
   "metadata": {},
   "outputs": [],
   "source": [
    "def moyenne(L):\n",
    "    somme=0\n",
    "    for i in range(...):\n",
    "        somme=somme+...\n",
    "    return somme/...\n",
    "\n",
    "print([1,2,3,4,5,6,7,8,9,10])"
   ]
  },
  {
   "cell_type": "markdown",
   "metadata": {},
   "source": [
    "<span style='color:blue'>**Exercice 3**</span> :\n",
    "\n",
    "On souhaite obtenir une liste L de 10 entiers aléatoires qui simule 10 lancers d'un dé à 6 faces. En utilisant la fonction *randint(1,6)* du module *random*, compléter le script suivant : \n"
   ]
  },
  {
   "cell_type": "code",
   "execution_count": null,
   "metadata": {},
   "outputs": [],
   "source": [
    "from random import *\n",
    "def simulation():\n",
    "    L=[]\n",
    "    for i in range(10):\n",
    "        de=...\n",
    "        L=L+[...]\n",
    "    return L\n",
    "\n",
    "print(simulation())"
   ]
  }
 ],
 "metadata": {
  "kernelspec": {
   "display_name": "Python 3",
   "language": "python",
   "name": "python3"
  },
  "language_info": {
   "codemirror_mode": {
    "name": "ipython",
    "version": 3
   },
   "file_extension": ".py",
   "mimetype": "text/x-python",
   "name": "python",
   "nbconvert_exporter": "python",
   "pygments_lexer": "ipython3",
   "version": "3.8.5"
  }
 },
 "nbformat": 4,
 "nbformat_minor": 4
}
